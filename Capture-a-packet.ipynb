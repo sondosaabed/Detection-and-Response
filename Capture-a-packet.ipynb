{
 "cells": [
  {
   "cell_type": "markdown",
   "metadata": {},
   "source": [
    "## Activity: Capture your first packet\n",
    "\n",
    "### Introduction\n",
    "\n",
    "As a security analyst, it’s important to know how to capture and filter network traffic in a Linux environment. You’ll also need to know the basic concepts associated with network interfaces.\n",
    "\n",
    "In this lab activity, you’ll perform tasks associated with using tcpdump to capture network traffic. You’ll capture the data in a packet capture (p-cap) file and then examine the contents of the captured packet data to focus on specific types of traffic.\n",
    "\n",
    "Let’s capture network traffic!"
   ]
  },
  {
   "cell_type": "markdown",
   "metadata": {},
   "source": [
    "### Scenario\n",
    "\n",
    "You’re a network analyst who needs to use tcpdump to capture and analyze live network traffic from a Linux virtual machine.\n",
    "\n",
    "The lab starts with your user account, called analyst, already logged in to a Linux terminal.\n",
    "\n",
    "Your Linux user's home directory contains a sample packet capture file that you will use at the end of the lab to answer a few questions about the network traffic that it contains.\n",
    "\n",
    "Here’s how you’ll do this: First, you’ll identify network interfaces to capture network packet data. Second, you’ll use tcpdump to filter live network traffic. Third, you’ll capture network traffic using tcpdump. Finally, you’ll filter the captured packet data."
   ]
  },
  {
   "cell_type": "markdown",
   "metadata": {},
   "source": [
    "![image](https://github.com/user-attachments/assets/43f919e1-9644-4851-b7ba-babe0bcaf70d)"
   ]
  },
  {
   "cell_type": "markdown",
   "metadata": {},
   "source": [
    "This command will run tcpdump with the following options:\n",
    "\n",
    "- -i eth0: Capture data specifically from the eth0 interface.\n",
    "- -v: Display detailed packet data.\n",
    "- -c5: Capture 5 packets of data."
   ]
  },
  {
   "cell_type": "markdown",
   "metadata": {},
   "source": [
    "![image](https://github.com/user-attachments/assets/f104147d-71eb-4151-9048-b80ddd2b4b7e)"
   ]
  },
  {
   "cell_type": "markdown",
   "metadata": {},
   "source": [
    "Exploring network packet details\n",
    "\n",
    "In this example, you’ll identify some of the properties that tcpdump outputs for the packet capture data you’ve just seen.\n",
    "\n",
    "1. In the example data at the start of the packet output, tcpdump reported that it was listening on the eth0 interface, and it provided information on the link type and the capture size in bytes:"
   ]
  },
  {
   "cell_type": "markdown",
   "metadata": {},
   "source": [
    "`tcpdump: listening on eth0, link-type EN10MB (Ethernet), capture size 262144 bytes`"
   ]
  },
  {
   "cell_type": "markdown",
   "metadata": {},
   "source": [
    "2. On the next line, the first field is the packet's timestamp, followed by the protocol type, IP:"
   ]
  },
  {
   "cell_type": "markdown",
   "metadata": {},
   "source": [
    "`22:24:18.910372 IP`"
   ]
  },
  {
   "cell_type": "markdown",
   "metadata": {},
   "source": [
    "3. The verbose option, -v, has provided more details about the IP packet fields, such as TOS, TTL, offset, flags, internal protocol type (in this case, TCP (6)), and the length of the outer IP packet in bytes:"
   ]
  },
  {
   "cell_type": "markdown",
   "metadata": {},
   "source": [
    "`(tos 0x0, ttl 64, id 5802, offset 0, flags [DF], proto TCP (6), length 134)`"
   ]
  },
  {
   "cell_type": "markdown",
   "metadata": {},
   "source": [
    "The specific details about these fields are beyond the scope of this lab. But you should know that these are properties that relate to the IP network packet.\n",
    "\n",
    "4. In the next section, the data shows the systems that are communicating with each other:"
   ]
  },
  {
   "cell_type": "markdown",
   "metadata": {},
   "source": [
    "`7acb26dc1f44.5000 > nginx-us-east1-c.c.qwiklabs-terminal-vms-prod-00.internal.59788:`"
   ]
  },
  {
   "cell_type": "markdown",
   "metadata": {},
   "source": [
    "By default, tcpdump will convert IP addresses into names, as in the screenshot. The name of your Linux virtual machine, also included in the command prompt, appears here as the source for one packet and the destination for the second packet. In your live data, the name will be a different set of letters and numbers.\n",
    "\n",
    "The direction of the arrow (>) indicates the direction of the traffic flow in this packet. Each system name includes a suffix with the port number (.5000 in the screenshot), which is used by the source and the destination systems for this packet.\n",
    "\n",
    "5. The remaining data filters the header data for the inner TCP packet:\n"
   ]
  },
  {
   "cell_type": "markdown",
   "metadata": {},
   "source": [
    "`Flags [P.], cksum 0x5851 (incorrect > 0x30d3), seq 1080713945:1080714027, ack 62760789, win 501, options [nop,nop,TS val 1017464119 ecr 3001513453], length 82`"
   ]
  },
  {
   "cell_type": "markdown",
   "metadata": {},
   "source": [
    "The flags field identifies TCP flags. In this case, the P represents the push flag and the period indicates it's an ACK flag. This means the packet is pushing out data.\n",
    "\n",
    "The next field is the TCP checksum value, which is used for detecting errors in the data.\n",
    "\n",
    "This section also includes the sequence and acknowledgment numbers, the window size, and the length of the inner TCP packet in bytes."
   ]
  },
  {
   "cell_type": "markdown",
   "metadata": {},
   "source": [
    "`sudo tcpdump -i eth0 -nn -c9 port 80 -w capture.pcap &`"
   ]
  },
  {
   "cell_type": "markdown",
   "metadata": {},
   "source": [
    "This command will run tcpdump in the background with the following options:\n",
    "\n",
    "    -i eth0: Capture data from the eth0 interface.\n",
    "    -nn: Do not attempt to resolve IP addresses or ports to names.This is best practice from a security perspective, as the lookup data may not be valid. It also prevents malicious actors from being alerted to an investigation.\n",
    "    -c9: Capture 9 packets of data and then exit.\n",
    "    port 80: Filter only port 80 traffic. This is the default HTTP port.\n",
    "    -w capture.pcap: Save the captured data to the named file.\n",
    "    &: This is an instruction to the Bash shell to run the command in the background."
   ]
  },
  {
   "cell_type": "markdown",
   "metadata": {},
   "source": [
    "When the curl command is used like this to open a website, it generates some HTTP (TCP port 80) traffic that can be captured."
   ]
  },
  {
   "cell_type": "markdown",
   "metadata": {},
   "source": [
    "![image](https://github.com/user-attachments/assets/9eb2272b-77f3-474a-8577-e764183b66a0)"
   ]
  },
  {
   "cell_type": "markdown",
   "metadata": {},
   "source": [
    "`sudo tcpdump -nn -r capture.pcap -v`"
   ]
  },
  {
   "cell_type": "markdown",
   "metadata": {},
   "source": [
    "This command will run tcpdump with the following options:\n",
    "\n",
    "    -nn: Disable port and protocol name lookup.\n",
    "    -r: Read capture data from the named file.\n",
    "    -v: Display detailed packet data.\n"
   ]
  },
  {
   "cell_type": "markdown",
   "metadata": {},
   "source": [
    "You must specify the -nn switch again here, as you want to make sure tcpdump does not perform name lookups of either IP addresses or ports, since this can alert threat actors."
   ]
  },
  {
   "cell_type": "markdown",
   "metadata": {},
   "source": [
    "```\n",
    "reading from file capture.pcap, link-type EN10MB (Ethernet)\n",
    "20:53:27.669101 IP (tos 0x0, ttl 64, id 50874, offset 0, flags [DF], proto TCP (6), length 60)\n",
    "    172.17.0.2:46498 > 146.75.38.132:80: Flags [S], cksum 0x5445 (incorrect), seq 4197622953, win 65320, options [mss 1420,sackOK,TS val 610940466 ecr 0, nop,wscale 7], length 0\n",
    "20:53:27.669422 IP (tos 0x0, ttl 62, id 0, offset 0, flags [DF], proto TCP (6), length 60)\n",
    "    146.75.38.132:80: > 172.17.0.2:46498: Flags [S.], cksum 0xc272 (correct), seq 2026312556, ack 4197622953, win 65535, options [mss 1420,sackOK,TS val 155704241 ecr 610940466, nop,wscale 9], length 0\n",
    "```"
   ]
  },
  {
   "cell_type": "markdown",
   "metadata": {},
   "source": [
    "![image](https://github.com/user-attachments/assets/c08a6d92-e0b3-44f1-9d7f-b1051e1c3bbb)"
   ]
  },
  {
   "cell_type": "markdown",
   "metadata": {},
   "source": [
    "`sudo tcpdump -nn -r capture.pcap -X`"
   ]
  },
  {
   "cell_type": "markdown",
   "metadata": {},
   "source": [
    "This command will run tcpdump with the following options:\n",
    "\n",
    "    -nn: Disable port and protocol name lookup.\n",
    "    -r: Read capture data from the named file.\n",
    "    -X: Display the hexadecimal and ASCII output format packet data. Security analysts can analyze hexadecimal and ASCII output to detect patterns or anomalies during malware analysis or forensic analysis.\n"
   ]
  }
 ],
 "metadata": {
  "language_info": {
   "name": "python"
  }
 },
 "nbformat": 4,
 "nbformat_minor": 2
}
