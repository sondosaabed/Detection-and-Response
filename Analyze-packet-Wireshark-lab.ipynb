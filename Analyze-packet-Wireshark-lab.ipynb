{
 "cells": [
  {
   "cell_type": "markdown",
   "metadata": {},
   "source": [
    "## Scenario\n",
    "\n",
    "In this scenario, you’re a security analyst investigating traffic to a website.\n",
    "\n",
    "You’ll analyze a network packet capture file that contains traffic data related to a user connecting to an internet site. The ability to filter network traffic using packet sniffers to gather relevant information is an essential skill as a security analyst.\n",
    "\n",
    "You must filter the data in order to:\n",
    "\n",
    "- identify the source and destination IP addresses involved in this web browsing session,\n",
    "- examine the protocols that are used when the user makes the connection to the website, and\n",
    "- analyze some of the data packets to identify the type of information sent and received by the systems that connect to each other when the network data is captured.\n",
    "\n",
    "Here’s how you’ll do this: First, you’ll open the packet capture file and explore the basic Wireshark graphic user interface. Second, you’ll open a detailed view of a single packet and explore how to examine the various protocol and data layers inside a network packet. Third, you’ll apply filters to select and inspect packets based on specific criteria. Fourth, you’ll filter and inspect UDP DNS traffic to examine protocol data. Finally, you’ll apply filters to TCP packet data to search for specific payload text data."
   ]
  }
 ],
 "metadata": {
  "language_info": {
   "name": "python"
  }
 },
 "nbformat": 4,
 "nbformat_minor": 2
}
