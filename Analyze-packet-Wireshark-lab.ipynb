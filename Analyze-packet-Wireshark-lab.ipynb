{
 "cells": [
  {
   "cell_type": "markdown",
   "metadata": {},
   "source": [
    "## Scenario\n",
    "\n",
    "In this scenario, you’re a security analyst investigating traffic to a website.\n",
    "\n",
    "You’ll analyze a network packet capture file that contains traffic data related to a user connecting to an internet site. The ability to filter network traffic using packet sniffers to gather relevant information is an essential skill as a security analyst.\n",
    "\n",
    "You must filter the data in order to:\n",
    "\n",
    "- identify the source and destination IP addresses involved in this web browsing session,\n",
    "- examine the protocols that are used when the user makes the connection to the website, and\n",
    "- analyze some of the data packets to identify the type of information sent and received by the systems that connect to each other when the network data is captured.\n",
    "\n",
    "Here’s how you’ll do this: First, you’ll open the packet capture file and explore the basic Wireshark graphic user interface. Second, you’ll open a detailed view of a single packet and explore how to examine the various protocol and data layers inside a network packet. Third, you’ll apply filters to select and inspect packets based on specific criteria. Fourth, you’ll filter and inspect UDP DNS traffic to examine protocol data. Finally, you’ll apply filters to TCP packet data to search for specific payload text data."
   ]
  },
  {
   "cell_type": "markdown",
   "metadata": {},
   "source": [
    "![image](https://github.com/user-attachments/assets/8f1e4566-5364-4300-a6df-0745f71bbfd1)"
   ]
  },
  {
   "cell_type": "markdown",
   "metadata": {},
   "source": [
    "Here is an overview of the key property columns listed for each packet:\n",
    "\n",
    "- No. : The index number of the packet in this packet capture file\n",
    "- Time: The timestamp of the packet\n",
    "- Source: The source IP address\n",
    "- Destination: The destination IP address\n",
    "- Protocol: The protocol contained in the packet\n",
    "- Length: The total length of the packet\n",
    "- Info: Some infomation about the data in the packet (the payload) as interpreted by Wireshark"
   ]
  },
  {
   "cell_type": "markdown",
   "metadata": {},
   "source": [
    "Not all the data packets are the same color. Coloring rules are used to provide high-level visual cues to help you quickly classify the different types of data. Since network packet capture files can contain large amounts of data, you can use coloring rules to quickly identify the data that is relevant to you. The example packet lists a group of light blue packets that all contain DNS traffic, followed by green packets that contain a mixture of TCP and HTTP protocol traffic."
   ]
  },
  {
   "cell_type": "markdown",
   "metadata": {},
   "source": [
    "![image](https://github.com/user-attachments/assets/9ad3acf4-cf6f-4f69-90e7-d3868c4725cd)"
   ]
  },
  {
   "cell_type": "markdown",
   "metadata": {},
   "source": [
    "> FRMAE\n",
    "This provides you with details about the overall network packet, or frame, including the frame length and the arrival time of the packet. At this level, you’re viewing information about the entire packet of data.\n",
    "\n",
    "> Ethernet II\n",
    "This item contains details about the packet at the Ethernet level, including the source and destination MAC addresses and the type of internal protocol that the Ethernet packet contains.\n",
    "\n",
    "> IPv4\n",
    "This provides packet data about the Internet Protocol (IP) data contained in the Ethernet packet. It contains information such as the source and destination IP addresses and the Internal Protocol (for example, TCP or UDP), which is carried inside the IP packet.\n",
    "\n",
    "> Internet control message"
   ]
  },
  {
   "cell_type": "markdown",
   "metadata": {},
   "source": [
    "![image](https://github.com/user-attachments/assets/7c539233-9b37-41cd-a1c4-051d548b3e2e)"
   ]
  },
  {
   "cell_type": "markdown",
   "metadata": {},
   "source": [
    "![image](https://github.com/user-attachments/assets/7716e51f-e1fd-4420-843c-1a21c2c56b5e)"
   ]
  },
  {
   "cell_type": "markdown",
   "metadata": {},
   "source": [
    "![image](https://github.com/user-attachments/assets/42ccabd1-47d9-46e1-a027-b699f1b5b440)"
   ]
  },
  {
   "cell_type": "markdown",
   "metadata": {},
   "source": [
    "![image](https://github.com/user-attachments/assets/fd0dc39f-28bb-4b6a-bfc4-3eaafb923052)"
   ]
  },
  {
   "cell_type": "markdown",
   "metadata": {},
   "source": [
    "![image](https://github.com/user-attachments/assets/457bbbf8-3ea4-4cb0-9b19-32e0a7614561)"
   ]
  },
  {
   "cell_type": "markdown",
   "metadata": {},
   "source": [
    "![image](https://github.com/user-attachments/assets/a4134ac6-854d-4e18-b59a-8b232f15cb2c)"
   ]
  },
  {
   "cell_type": "markdown",
   "metadata": {},
   "source": [
    "![image](https://github.com/user-attachments/assets/c887f0da-8930-4053-8419-4ac5beef5386)"
   ]
  }
 ],
 "metadata": {
  "language_info": {
   "name": "python"
  }
 },
 "nbformat": 4,
 "nbformat_minor": 2
}
